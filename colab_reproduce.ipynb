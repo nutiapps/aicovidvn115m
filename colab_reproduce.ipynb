{
  "nbformat": 4,
  "nbformat_minor": 0,
  "metadata": {
    "colab": {
      "name": "colab_reproduce.ipynb",
      "provenance": []
    },
    "kernelspec": {
      "name": "python3",
      "display_name": "Python 3"
    },
    "language_info": {
      "name": "python"
    }
  },
  "cells": [
    {
      "cell_type": "code",
      "metadata": {
        "colab": {
          "base_uri": "https://localhost:8080/"
        },
        "id": "BS9j7lwpvs4W",
        "outputId": "8570a982-8233-49ea-e65d-baaa2e3404d2"
      },
      "source": [
        "!git clone https://github.com/nutiapps/aicovidvn115m.git"
      ],
      "execution_count": 8,
      "outputs": [
        {
          "output_type": "stream",
          "text": [
            "Cloning into 'aicovidvn115m'...\n",
            "remote: Enumerating objects: 1812, done.\u001b[K\n",
            "remote: Counting objects:   6% (1/16)\u001b[K\rremote: Counting objects:  12% (2/16)\u001b[K\rremote: Counting objects:  18% (3/16)\u001b[K\rremote: Counting objects:  25% (4/16)\u001b[K\rremote: Counting objects:  31% (5/16)\u001b[K\rremote: Counting objects:  37% (6/16)\u001b[K\rremote: Counting objects:  43% (7/16)\u001b[K\rremote: Counting objects:  50% (8/16)\u001b[K\rremote: Counting objects:  56% (9/16)\u001b[K\rremote: Counting objects:  62% (10/16)\u001b[K\rremote: Counting objects:  68% (11/16)\u001b[K\rremote: Counting objects:  75% (12/16)\u001b[K\rremote: Counting objects:  81% (13/16)\u001b[K\rremote: Counting objects:  87% (14/16)\u001b[K\rremote: Counting objects:  93% (15/16)\u001b[K\rremote: Counting objects: 100% (16/16)\u001b[K\rremote: Counting objects: 100% (16/16), done.\u001b[K\n",
            "remote: Compressing objects: 100% (12/12), done.\u001b[K\n",
            "remote: Total 1812 (delta 5), reused 11 (delta 4), pack-reused 1796\u001b[K\n",
            "Receiving objects: 100% (1812/1812), 299.28 MiB | 35.71 MiB/s, done.\n",
            "Resolving deltas: 100% (257/257), done.\n"
          ],
          "name": "stdout"
        }
      ]
    },
    {
      "cell_type": "code",
      "metadata": {
        "colab": {
          "base_uri": "https://localhost:8080/"
        },
        "id": "KwOASTghv0Zw",
        "outputId": "265526eb-052c-4b42-c38a-4cdcbe77d0cb"
      },
      "source": [
        "%cd aicovidvn115m/"
      ],
      "execution_count": 9,
      "outputs": [
        {
          "output_type": "stream",
          "text": [
            "/content/aicovidvn115m\n"
          ],
          "name": "stdout"
        }
      ]
    },
    {
      "cell_type": "code",
      "metadata": {
        "id": "vSzgeIlZv8c5"
      },
      "source": [
        "!pip install -r requirements.txt"
      ],
      "execution_count": null,
      "outputs": []
    },
    {
      "cell_type": "markdown",
      "metadata": {
        "id": "rQ3gcqUU_UKf"
      },
      "source": [
        "``` restart runtime if it is required ```"
      ]
    },
    {
      "cell_type": "code",
      "metadata": {
        "colab": {
          "base_uri": "https://localhost:8080/"
        },
        "id": "akPrQPmSwh7P",
        "outputId": "ab3dadce-d712-4926-a3dc-afa435e943d8"
      },
      "source": [
        "!dvc repro"
      ],
      "execution_count": 10,
      "outputs": [
        {
          "output_type": "stream",
          "text": [
            "\r!\rIf DVC froze, see `hardlink_lock` in <\u001b[36mhttps://man.dvc.org/config#core\u001b[39m>\r                                                                      \rRunning stage 'download':\n",
            "> python src/create_dataset.py\n",
            "Downloading...\n",
            "From: https://drive.google.com/uc?id=1MPhz3zYl2yefCq-J5XySbFJt99BfKIZD\n",
            "To: /content/aicovidvn115m/data/raw/aicv115m_public_train.zip\n",
            "235MB [00:06, 38.1MB/s]\n",
            "Downloading...\n",
            "From: https://drive.google.com/uc?id=1hP8rHwJ_bz3J1T4MtEEp53ZBe9fdFKrW\n",
            "To: /content/aicovidvn115m/data/raw/aicv115m_private_test.zip\n",
            "78.9MB [00:00, 125MB/s]\n",
            "\n",
            "Running stage 'featurization':\n",
            "> python src/featurization.py\n",
            "2021-07-06 13:06:58.825618: I tensorflow/stream_executor/platform/default/dso_loader.cc:53] Successfully opened dynamic library libcudart.so.11.0\n",
            "/bin/sh: 1: sox: not found\n",
            "SoX could not be found!\n",
            "\n",
            "    If you do not have SoX, proceed here:\n",
            "     - - - http://sox.sourceforge.net/ - - -\n",
            "\n",
            "    If you do (or think that you should) have SoX, double-check your\n",
            "    path variables.\n",
            "    \n",
            "2021-07-06 13:07:01.142676: I tensorflow/stream_executor/platform/default/dso_loader.cc:53] Successfully opened dynamic library libcuda.so.1\n",
            "2021-07-06 13:07:01.153835: E tensorflow/stream_executor/cuda/cuda_driver.cc:328] failed call to cuInit: CUDA_ERROR_NO_DEVICE: no CUDA-capable device is detected\n",
            "2021-07-06 13:07:01.153895: I tensorflow/stream_executor/cuda/cuda_diagnostics.cc:156] kernel driver does not appear to be running on this host (79a6635e1290): /proc/driver/nvidia/version does not exist\n",
            "[*] process data\n",
            "/usr/local/lib/python3.7/dist-packages/sklearn/model_selection/_split.py:668: UserWarning: The least populated class in y has only 1 members, which is less than n_splits=5.\n",
            "  % (min_groups, self.n_splits)), UserWarning)\n",
            "pos scale 1.5952380952380953\n",
            "[*] make basic feature\n",
            "(1199, 8) (1199,) (450, 8)\n",
            "Preprocessing: 35.86 seconds\n",
            "[*] make acoustic feature\n",
            "(1199, 68) (450, 68)\n",
            "/usr/local/lib/python3.7/dist-packages/librosa/core/spectrum.py:224: UserWarning: n_fft=2048 is too small for input signal of length=1197\n",
            "  n_fft, y.shape[-1]\n",
            "/usr/local/lib/python3.7/dist-packages/librosa/core/spectrum.py:224: UserWarning: n_fft=2048 is too small for input signal of length=1862\n",
            "  n_fft, y.shape[-1]\n",
            "/usr/local/lib/python3.7/dist-packages/librosa/core/spectrum.py:224: UserWarning: n_fft=2048 is too small for input signal of length=1166\n",
            "  n_fft, y.shape[-1]\n",
            "(1199, 68) (450, 68)\n",
            "Preprocessing: 508.41 seconds\n",
            "[*] make open smile feature\n",
            "/usr/local/lib/python3.7/dist-packages/audinterface/core/process.py:127: FutureWarning: In a future version of pandas all arguments of MultiIndex.set_levels except for the argument 'levels' will be keyword-only\n",
            "  y.index = y.index.set_levels([[start], [end]], [1, 2])\n",
            "(1199, 6373) (450, 6373)\n",
            "Preprocessing: 719.26 seconds\n",
            "[*] make yamnet feature\n",
            "2021-07-06 13:19:04.878450: I tensorflow/compiler/mlir/mlir_graph_optimization_pass.cc:176] None of the MLIR Optimization Passes are enabled (registered 2)\n",
            "2021-07-06 13:19:04.892750: I tensorflow/core/platform/profile_utils/cpu_utils.cc:114] CPU Frequency: 2200120000 Hz\n",
            "2021-07-06 13:20:06.188079: W tensorflow/core/framework/cpu_allocator_impl.cc:80] Allocation of 18284544 exceeds 10% of free system memory.\n",
            "2021-07-06 13:20:06.398693: W tensorflow/core/framework/cpu_allocator_impl.cc:80] Allocation of 18087936 exceeds 10% of free system memory.\n",
            "2021-07-06 13:20:06.411062: W tensorflow/core/framework/cpu_allocator_impl.cc:80] Allocation of 18087936 exceeds 10% of free system memory.\n",
            "2021-07-06 13:20:06.428427: W tensorflow/core/framework/cpu_allocator_impl.cc:80] Allocation of 18087936 exceeds 10% of free system memory.\n",
            "2021-07-06 13:20:06.437091: W tensorflow/core/framework/cpu_allocator_impl.cc:80] Allocation of 36175872 exceeds 10% of free system memory.\n",
            "(1199, 256) (450, 256)\n",
            "Preprocessing: 808.04 seconds\n",
            "[*] make knn feature\n",
            "train vs test shape (1199, 23) (450, 23)\n",
            "Preprocessing: 813.76 seconds\n",
            "[*] prepare dataset\n",
            ">> collection 2\n",
            "(1199, 99) (450, 99)\n",
            ">> collection 3\n",
            "(1199, 6404) (450, 6404)\n",
            ">> collection 5\n",
            "(1199, 6728) (450, 6728)\n",
            "Preprocessing: 814.65 seconds\n",
            "Updating lock file 'dvc.lock'\n",
            "\n",
            "Running stage 'trainpredict':\n",
            "> python src/train_predict.py\n",
            "/usr/local/lib/python3.7/dist-packages/distributed/config.py:20: YAMLLoadWarning: calling yaml.load() without Loader=... is deprecated, as the default Loader is unsafe. Please read https://msg.pyyaml.org/load for full details.\n",
            "  defaults = yaml.load(f)\n",
            "[*] Trial  0\n",
            "Training time: 1189.53 seconds\n",
            "Updating lock file 'dvc.lock'\n",
            "\n",
            "Running stage 'evaluation':\n",
            "> python src/evaluate.py\n",
            "/usr/local/lib/python3.7/dist-packages/distributed/config.py:20: YAMLLoadWarning: calling yaml.load() without Loader=... is deprecated, as the default Loader is unsafe. Please read https://msg.pyyaml.org/load for full details.\n",
            "  defaults = yaml.load(f)\n",
            "[*] model <class 'lightgbm.sklearn.LGBMClassifier'>\n",
            "fold 0 train ratio 0.39 val ratio 0.38\n",
            "fold 1 train ratio 0.39 val ratio 0.38\n",
            "fold 2 train ratio 0.38 val ratio 0.39\n",
            "fold 3 train ratio 0.38 val ratio 0.39\n",
            "fold 4 train ratio 0.39 val ratio 0.38\n",
            "(!) cv5 AUC  0.8956867202233862 0.014363078276061047\n",
            "====================\n",
            "+------+---------------------------------------+---------+\n",
            "|      | Feature                               |   Value |\n",
            "|------+---------------------------------------+---------|\n",
            "| 6727 | null_in_gender                        |      51 |\n",
            "| 6726 | pcm_fftMag_spectralFlux_sma_maxSegLen |      39 |\n",
            "| 6725 | mfcc_sma[7]_quartile2                 |      31 |\n",
            "| 6724 | audSpec_Rfilt_sma[1]_upleveltime90    |      31 |\n",
            "| 6723 | shimmerLocal_sma_de_qregerrQ          |      28 |\n",
            "| 6722 | mfcc_sma_de[11]_range                 |      28 |\n",
            "| 6721 | audSpec_Rfilt_sma[10]_minSegLen       |      27 |\n",
            "| 6720 | svd_242                               |      26 |\n",
            "| 6719 | audspec_lengthL1norm_sma_de_quartile2 |      24 |\n",
            "| 6718 | subject_gender_te                     |      23 |\n",
            "+------+---------------------------------------+---------+\n",
            "\n",
            "AUC score:       0.8942\n",
            "Best threshold       0.3700\n",
            "\n",
            "Confusion Matrix : \n",
            " [[555 182]\n",
            " [ 42 420]]\n",
            "\n",
            "=============\n",
            "Accuracy    :       0.8132\n",
            "Sensitivity :       0.7531\n",
            "Specificity :       0.9091\n",
            "Updating lock file 'dvc.lock'\n",
            "\n",
            "To track the changes with git, run:\n",
            "\n",
            "\tgit add dvc.lock\n",
            "Use `dvc push` to send your updates to remote storage.\n",
            "\u001b[0m"
          ],
          "name": "stdout"
        }
      ]
    },
    {
      "cell_type": "code",
      "metadata": {
        "colab": {
          "base_uri": "https://localhost:8080/"
        },
        "id": "Rx61TbQv7QGP",
        "outputId": "b6794452-151c-42d9-c557-5bf073b001cf"
      },
      "source": [
        "!dvc metrics show"
      ],
      "execution_count": 11,
      "outputs": [
        {
          "output_type": "stream",
          "text": [
            "\r!\rIf DVC froze, see `hardlink_lock` in <\u001b[36mhttps://man.dvc.org/config#core\u001b[39m>\r                                                                      \rPath              avg_prec    roc_auc\n",
            "data/scores.json  0.79876     0.89424\n",
            "\u001b[0m"
          ],
          "name": "stdout"
        }
      ]
    },
    {
      "cell_type": "code",
      "metadata": {
        "colab": {
          "base_uri": "https://localhost:8080/"
        },
        "id": "G0t-rk8iEARu",
        "outputId": "020c6e0d-8c37-4d47-96c2-8a6ee1627fc8"
      },
      "source": [
        "!dvc exp show --include-params evaluation.model_index,evaluation.collection_index"
      ],
      "execution_count": 13,
      "outputs": [
        {
          "output_type": "stream",
          "text": [
            "\r!\rIf DVC froze, see `hardlink_lock` in <\u001b[36mhttps://man.dvc.org/config#core\u001b[39m>\r                                                                      \r┏━━━━━━━━━━━━┳━━━━━━━━━━┳━━━━━━━━━━┳━━━━━━━━━┳━━━━━━━━━━━━━━━━━━━━━━━━┳━━━━━━━━━━━━━━━━━━━━━━━━━━━━━┓\n",
            "┃\u001b[1;30;107m \u001b[0m\u001b[1;30;107mExperiment\u001b[0m\u001b[1;30;107m \u001b[0m┃\u001b[1;30;107m \u001b[0m\u001b[1;30;107mCreated \u001b[0m\u001b[1;30;107m \u001b[0m┃\u001b[1;30;107m \u001b[0m\u001b[1;30;107mavg_prec\u001b[0m\u001b[1;30;107m \u001b[0m┃\u001b[1;30;107m \u001b[0m\u001b[1;30;107mroc_auc\u001b[0m\u001b[1;30;107m \u001b[0m┃\u001b[1;30;107m \u001b[0m\u001b[1;30;107mevaluation.model_index\u001b[0m\u001b[1;30;107m \u001b[0m┃\u001b[1;30;107m \u001b[0m\u001b[1;30;107mevaluation.collection_index\u001b[0m\u001b[1;30;107m \u001b[0m┃\n",
            "┡━━━━━━━━━━━━╇━━━━━━━━━━╇━━━━━━━━━━╇━━━━━━━━━╇━━━━━━━━━━━━━━━━━━━━━━━━╇━━━━━━━━━━━━━━━━━━━━━━━━━━━━━┩\n",
            "│\u001b[1m \u001b[0m\u001b[1mworkspace\u001b[0m\u001b[1m \u001b[0m\u001b[1m \u001b[0m│\u001b[1m \u001b[0m\u001b[1m-       \u001b[0m\u001b[1m \u001b[0m│\u001b[1m \u001b[0m\u001b[1m 0.79876\u001b[0m\u001b[1m \u001b[0m│\u001b[1m \u001b[0m\u001b[1m0.89424\u001b[0m\u001b[1m \u001b[0m│\u001b[1m \u001b[0m\u001b[1m1                     \u001b[0m\u001b[1m \u001b[0m│\u001b[1m \u001b[0m\u001b[1m5                          \u001b[0m\u001b[1m \u001b[0m│\n",
            "│\u001b[1m \u001b[0m\u001b[1mmaster\u001b[0m\u001b[1m    \u001b[0m\u001b[1m \u001b[0m│\u001b[1m \u001b[0m\u001b[1m01:05 PM\u001b[0m\u001b[1m \u001b[0m│\u001b[1m \u001b[0m\u001b[1m 0.79949\u001b[0m\u001b[1m \u001b[0m│\u001b[1m \u001b[0m\u001b[1m0.89643\u001b[0m\u001b[1m \u001b[0m│\u001b[1m \u001b[0m\u001b[1m1                     \u001b[0m\u001b[1m \u001b[0m│\u001b[1m \u001b[0m\u001b[1m5                          \u001b[0m\u001b[1m \u001b[0m│\n",
            "└────────────┴──────────┴──────────┴─────────┴────────────────────────┴─────────────────────────────┘\n",
            "\u001b[0m"
          ],
          "name": "stdout"
        }
      ]
    },
    {
      "cell_type": "code",
      "metadata": {
        "colab": {
          "base_uri": "https://localhost:8080/"
        },
        "id": "AfLSVKYtEIYE",
        "outputId": "8e413304-7c18-45dd-bf40-1eaca1b86916"
      },
      "source": [
        "!ls -la data/subs/"
      ],
      "execution_count": 14,
      "outputs": [
        {
          "output_type": "stream",
          "text": [
            "total 36\n",
            "drwxr-xr-x 2 root root  4096 Jul  6 13:40 .\n",
            "drwxr-xr-x 6 root root  4096 Jul  6 13:44 ..\n",
            "-rw-r--r-- 1 root root 26889 Jul  6 13:40 littlelamb-5x3-collection235-abc-trim-balanced-te-null-20.zip\n"
          ],
          "name": "stdout"
        }
      ]
    },
    {
      "cell_type": "code",
      "metadata": {
        "id": "WI9cl8_UEQqg"
      },
      "source": [
        "# colab runtime 1 trial end to end: 1189.53 seconds"
      ],
      "execution_count": 15,
      "outputs": []
    },
    {
      "cell_type": "code",
      "metadata": {
        "id": "K07CifvpFKHI"
      },
      "source": [
        ""
      ],
      "execution_count": null,
      "outputs": []
    }
  ]
}